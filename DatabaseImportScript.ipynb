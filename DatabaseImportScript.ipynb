{
 "cells": [
  {
   "cell_type": "markdown",
   "id": "f2280429",
   "metadata": {},
   "source": [
    "# Database import jupyter script"
   ]
  },
  {
   "cell_type": "markdown",
   "id": "3cc0895c",
   "metadata": {},
   "source": [
    "## I. Setup"
   ]
  },
  {
   "cell_type": "markdown",
   "id": "4628b15b",
   "metadata": {},
   "source": [
    "### 1. Django Jupyter setup"
   ]
  },
  {
   "cell_type": "code",
   "execution_count": 1,
   "id": "47c17496",
   "metadata": {},
   "outputs": [],
   "source": [
    "import os, django\n",
    "os.environ.setdefault(\"DJANGO_SETTINGS_MODULE\", \"backend.settings\")\n",
    "os.environ[\"DJANGO_ALLOW_ASYNC_UNSAFE\"] = \"true\"\n",
    "django.setup()"
   ]
  },
  {
   "cell_type": "markdown",
   "id": "1f68da15",
   "metadata": {},
   "source": [
    "### 2. Environment variables"
   ]
  },
  {
   "cell_type": "code",
   "execution_count": 2,
   "id": "8cc86367",
   "metadata": {},
   "outputs": [
    {
     "data": {
      "text/plain": [
       "True"
      ]
     },
     "execution_count": 2,
     "metadata": {},
     "output_type": "execute_result"
    }
   ],
   "source": [
    "from dotenv import load_dotenv\n",
    "import os \n",
    "load_dotenv()"
   ]
  },
  {
   "cell_type": "markdown",
   "id": "c97a898e",
   "metadata": {},
   "source": [
    "### 3. Other imports"
   ]
  },
  {
   "cell_type": "code",
   "execution_count": 3,
   "id": "066d913b",
   "metadata": {},
   "outputs": [],
   "source": [
    "from account.models import *\n",
    "from sales.models import *"
   ]
  },
  {
   "cell_type": "markdown",
   "id": "77db5592",
   "metadata": {},
   "source": [
    "## II. Import"
   ]
  },
  {
   "cell_type": "markdown",
   "id": "9f361760",
   "metadata": {},
   "source": [
    "### 1. Special Offers"
   ]
  },
  {
   "cell_type": "code",
   "execution_count": null,
   "id": "e8cdacf3",
   "metadata": {},
   "outputs": [],
   "source": [
    "specialOfferList = SpecialOffer.objects.all()\n",
    "print(specialOfferList)"
   ]
  }
 ],
 "metadata": {
  "kernelspec": {
   "display_name": "Django Shell-Plus",
   "language": "python",
   "name": "django_extensions"
  },
  "language_info": {
   "codemirror_mode": {
    "name": "ipython",
    "version": 3
   },
   "file_extension": ".py",
   "mimetype": "text/x-python",
   "name": "python",
   "nbconvert_exporter": "python",
   "pygments_lexer": "ipython3",
   "version": "3.11.2"
  }
 },
 "nbformat": 4,
 "nbformat_minor": 5
}
