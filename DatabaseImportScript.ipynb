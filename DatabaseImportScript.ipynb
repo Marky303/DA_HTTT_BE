{
 "cells": [
  {
   "cell_type": "markdown",
   "id": "f2280429",
   "metadata": {},
   "source": [
    "# Database import jupyter script"
   ]
  },
  {
   "cell_type": "markdown",
   "id": "3cc0895c",
   "metadata": {},
   "source": [
    "## I. Setup"
   ]
  },
  {
   "cell_type": "markdown",
   "id": "4628b15b",
   "metadata": {},
   "source": [
    "### 1. Django Jupyter setup"
   ]
  },
  {
   "cell_type": "code",
   "execution_count": 22,
   "id": "47c17496",
   "metadata": {},
   "outputs": [],
   "source": [
    "import os, django\n",
    "os.environ.setdefault(\"DJANGO_SETTINGS_MODULE\", \"backend.settings\")\n",
    "os.environ[\"DJANGO_ALLOW_ASYNC_UNSAFE\"] = \"true\"\n",
    "django.setup()"
   ]
  },
  {
   "cell_type": "markdown",
   "id": "1f68da15",
   "metadata": {},
   "source": [
    "### 2. Environment variables"
   ]
  },
  {
   "cell_type": "code",
   "execution_count": 23,
   "id": "8cc86367",
   "metadata": {},
   "outputs": [
    {
     "data": {
      "text/plain": [
       "True"
      ]
     },
     "execution_count": 23,
     "metadata": {},
     "output_type": "execute_result"
    }
   ],
   "source": [
    "from dotenv import load_dotenv\n",
    "import os \n",
    "load_dotenv()"
   ]
  },
  {
   "cell_type": "markdown",
   "id": "c97a898e",
   "metadata": {},
   "source": [
    "### 3. Other imports"
   ]
  },
  {
   "cell_type": "code",
   "execution_count": 24,
   "id": "066d913b",
   "metadata": {},
   "outputs": [],
   "source": [
    "# Import libraries\n",
    "import psycopg\n",
    "\n",
    "# Import Django models\n",
    "from account.models import *\n",
    "from sales.models import *"
   ]
  },
  {
   "cell_type": "markdown",
   "id": "c26d7a8c",
   "metadata": {},
   "source": [
    "### 4. Connect to Postgres"
   ]
  },
  {
   "cell_type": "code",
   "execution_count": 25,
   "id": "51bf7c1f",
   "metadata": {},
   "outputs": [],
   "source": [
    "# Connect to database\n",
    "connection = psycopg.connect(\n",
    "    dbname   = os.getenv(\"DATABASE_NAME\"),\n",
    "    user     = os.getenv(\"DATABASE_USER\"),\n",
    "    password = os.getenv(\"DATABASE_PASSWORD\"),\n",
    "    host     = os.getenv(\"DATABASE_HOST\"),\n",
    "    port     = os.getenv(\"DATABASE_PORT\")\n",
    ")"
   ]
  },
  {
   "cell_type": "markdown",
   "id": "e232dde2",
   "metadata": {},
   "source": [
    "### 5. Function declaration"
   ]
  },
  {
   "cell_type": "code",
   "execution_count": 26,
   "id": "aa9104cd",
   "metadata": {},
   "outputs": [],
   "source": [
    "def printRecord(list):\n",
    "    for record in list:\n",
    "        print(record)"
   ]
  },
  {
   "cell_type": "markdown",
   "id": "77db5592",
   "metadata": {},
   "source": [
    "## II. Import"
   ]
  },
  {
   "cell_type": "markdown",
   "id": "9f361760",
   "metadata": {},
   "source": [
    "### 1. Special Offers"
   ]
  },
  {
   "cell_type": "code",
   "execution_count": 27,
   "id": "851e784d",
   "metadata": {
    "scrolled": true
   },
   "outputs": [
    {
     "name": "stdout",
     "output_type": "stream",
     "text": [
      "Done!\n"
     ]
    }
   ],
   "source": [
    "# Roll back to avoid error\n",
    "# connection.rollback()\n",
    "\n",
    "# Set up query\n",
    "cur = connection.cursor()\n",
    "cur.execute(\"\"\"\n",
    "SELECT * FROM \"Company\".specialoffer\n",
    "ORDER BY specialofferid ASC\n",
    "\"\"\")\n",
    "\n",
    "# Result\n",
    "rows = cur.fetchall()\n",
    "# for row in rows:\n",
    "#     print(row)\n",
    "cur.close()\n",
    "\n",
    "print(\"Done!\")"
   ]
  },
  {
   "cell_type": "code",
   "execution_count": 9,
   "id": "3c76d7b9",
   "metadata": {},
   "outputs": [],
   "source": [
    "# Save records\n",
    "for row in rows:\n",
    "    # Create object\n",
    "    specialOffer = SpecialOffer(id=row[0],\n",
    "                                Description=row[1],\n",
    "                                Type=row[3],\n",
    "                                StartDate=row[5],\n",
    "                                EndDate=row[6],\n",
    "                                MinQty=row[7],\n",
    "                                MaxQty=row[8],\n",
    "                                DiscountPct=row[2])\n",
    "    \n",
    "    # Save to database\n",
    "    specialOffer.save()\n",
    "    \n",
    "print(\"Done!\")"
   ]
  },
  {
   "cell_type": "code",
   "execution_count": 10,
   "id": "7437b0f9",
   "metadata": {
    "scrolled": false
   },
   "outputs": [
    {
     "name": "stdout",
     "output_type": "stream",
     "text": [
      "SpecialOffer object (1)\n",
      "SpecialOffer object (2)\n",
      "SpecialOffer object (3)\n",
      "SpecialOffer object (4)\n",
      "SpecialOffer object (5)\n",
      "SpecialOffer object (6)\n",
      "SpecialOffer object (7)\n",
      "SpecialOffer object (8)\n",
      "SpecialOffer object (9)\n",
      "SpecialOffer object (10)\n",
      "SpecialOffer object (11)\n",
      "SpecialOffer object (12)\n",
      "SpecialOffer object (13)\n",
      "SpecialOffer object (14)\n",
      "SpecialOffer object (15)\n",
      "SpecialOffer object (16)\n"
     ]
    }
   ],
   "source": [
    "printRecord(SpecialOffer.objects.all())"
   ]
  },
  {
   "cell_type": "markdown",
   "id": "bfd43c4a",
   "metadata": {},
   "source": [
    "### 2. Products"
   ]
  },
  {
   "cell_type": "code",
   "execution_count": 16,
   "id": "0d6a0514",
   "metadata": {},
   "outputs": [
    {
     "name": "stdout",
     "output_type": "stream",
     "text": [
      "Done!\n"
     ]
    }
   ],
   "source": [
    "# Roll back to avoid error\n",
    "connection.rollback()\n",
    "\n",
    "# Set up query\n",
    "cur = connection.cursor()\n",
    "cur.execute(\"\"\"\n",
    "SELECT * FROM \"Company\".product\n",
    "ORDER BY productid ASC\n",
    "\"\"\")\n",
    "\n",
    "# Result\n",
    "rows = cur.fetchall()\n",
    "# for row in rows:\n",
    "#     print(row)\n",
    "cur.close()\n",
    "\n",
    "print(\"Done!\")"
   ]
  },
  {
   "cell_type": "code",
   "execution_count": 15,
   "id": "828e939c",
   "metadata": {},
   "outputs": [],
   "source": [
    "# Save records\n",
    "for row in rows:\n",
    "    product = Product(id=row[0],\n",
    "                     Name=row[1],\n",
    "                     Manufacturer=row[4],\n",
    "                     Summary=row[3],\n",
    "                     WarrantyPeriod=row[5],\n",
    "                     RiderExperience=row[11],\n",
    "                     Description=row[2],\n",
    "                     Size=\"XXL\",                # Size\n",
    "                     Style=row[10],\n",
    "                     StandardCost=69,           # TODO\n",
    "                     ListPrice=69)              # TODO\n",
    "                      \n",
    "    product.save()\n",
    "    \n",
    "print(\"Done!\")"
   ]
  },
  {
   "cell_type": "code",
   "execution_count": 13,
   "id": "241ad123",
   "metadata": {},
   "outputs": [
    {
     "name": "stdout",
     "output_type": "stream",
     "text": [
      "Product object (706)\n",
      "Product object (707)\n",
      "Product object (708)\n",
      "Product object (709)\n",
      "Product object (710)\n",
      "Product object (711)\n",
      "Product object (712)\n",
      "Product object (713)\n",
      "Product object (714)\n",
      "Product object (715)\n",
      "Product object (716)\n",
      "Product object (717)\n",
      "Product object (718)\n",
      "Product object (719)\n",
      "Product object (720)\n",
      "Product object (721)\n",
      "Product object (722)\n",
      "Product object (723)\n",
      "Product object (724)\n",
      "Product object (725)\n",
      "Product object (726)\n",
      "Product object (727)\n",
      "Product object (728)\n",
      "Product object (729)\n",
      "Product object (730)\n",
      "Product object (732)\n",
      "Product object (733)\n",
      "Product object (734)\n",
      "Product object (735)\n",
      "Product object (736)\n",
      "Product object (737)\n",
      "Product object (738)\n",
      "Product object (739)\n",
      "Product object (740)\n",
      "Product object (741)\n",
      "Product object (743)\n",
      "Product object (744)\n",
      "Product object (745)\n",
      "Product object (746)\n",
      "Product object (747)\n",
      "Product object (749)\n",
      "Product object (750)\n",
      "Product object (751)\n",
      "Product object (752)\n",
      "Product object (753)\n",
      "Product object (754)\n",
      "Product object (755)\n",
      "Product object (756)\n",
      "Product object (757)\n",
      "Product object (758)\n",
      "Product object (759)\n",
      "Product object (760)\n",
      "Product object (762)\n",
      "Product object (763)\n",
      "Product object (764)\n",
      "Product object (765)\n",
      "Product object (766)\n",
      "Product object (767)\n",
      "Product object (768)\n",
      "Product object (769)\n",
      "Product object (772)\n",
      "Product object (773)\n",
      "Product object (774)\n",
      "Product object (775)\n",
      "Product object (776)\n",
      "Product object (777)\n",
      "Product object (778)\n",
      "Product object (779)\n",
      "Product object (780)\n",
      "Product object (781)\n",
      "Product object (782)\n",
      "Product object (783)\n",
      "Product object (784)\n",
      "Product object (785)\n",
      "Product object (786)\n",
      "Product object (788)\n",
      "Product object (789)\n",
      "Product object (790)\n",
      "Product object (791)\n",
      "Product object (792)\n",
      "Product object (793)\n",
      "Product object (794)\n",
      "Product object (795)\n",
      "Product object (796)\n",
      "Product object (797)\n",
      "Product object (798)\n",
      "Product object (800)\n",
      "Product object (801)\n",
      "Product object (802)\n",
      "Product object (803)\n",
      "Product object (804)\n",
      "Product object (805)\n",
      "Product object (806)\n",
      "Product object (807)\n",
      "Product object (808)\n",
      "Product object (809)\n",
      "Product object (810)\n",
      "Product object (811)\n",
      "Product object (812)\n",
      "Product object (813)\n",
      "Product object (814)\n",
      "Product object (815)\n",
      "Product object (816)\n",
      "Product object (817)\n",
      "Product object (818)\n",
      "Product object (819)\n",
      "Product object (820)\n",
      "Product object (821)\n",
      "Product object (822)\n",
      "Product object (823)\n",
      "Product object (824)\n",
      "Product object (825)\n",
      "Product object (826)\n",
      "Product object (827)\n",
      "Product object (828)\n",
      "Product object (829)\n",
      "Product object (830)\n",
      "Product object (831)\n",
      "Product object (832)\n",
      "Product object (878)\n",
      "Product object (834)\n",
      "Product object (835)\n",
      "Product object (836)\n",
      "Product object (837)\n",
      "Product object (838)\n",
      "Product object (839)\n",
      "Product object (840)\n",
      "Product object (841)\n",
      "Product object (842)\n",
      "Product object (843)\n",
      "Product object (844)\n",
      "Product object (845)\n",
      "Product object (846)\n",
      "Product object (847)\n",
      "Product object (848)\n",
      "Product object (849)\n",
      "Product object (850)\n",
      "Product object (851)\n",
      "Product object (852)\n",
      "Product object (853)\n",
      "Product object (854)\n",
      "Product object (855)\n",
      "Product object (856)\n",
      "Product object (857)\n",
      "Product object (858)\n",
      "Product object (859)\n",
      "Product object (860)\n",
      "Product object (861)\n",
      "Product object (862)\n",
      "Product object (863)\n",
      "Product object (864)\n",
      "Product object (865)\n",
      "Product object (866)\n",
      "Product object (867)\n",
      "Product object (868)\n",
      "Product object (869)\n",
      "Product object (870)\n",
      "Product object (871)\n",
      "Product object (872)\n",
      "Product object (873)\n",
      "Product object (874)\n",
      "Product object (875)\n",
      "Product object (876)\n",
      "Product object (877)\n",
      "Product object (880)\n",
      "Product object (882)\n",
      "Product object (883)\n",
      "Product object (884)\n",
      "Product object (885)\n",
      "Product object (886)\n",
      "Product object (887)\n",
      "Product object (888)\n",
      "Product object (889)\n",
      "Product object (890)\n",
      "Product object (891)\n",
      "Product object (892)\n",
      "Product object (893)\n",
      "Product object (894)\n",
      "Product object (895)\n",
      "Product object (896)\n",
      "Product object (897)\n",
      "Product object (898)\n",
      "Product object (899)\n",
      "Product object (900)\n",
      "Product object (901)\n",
      "Product object (902)\n",
      "Product object (903)\n",
      "Product object (904)\n",
      "Product object (905)\n",
      "Product object (906)\n",
      "Product object (908)\n",
      "Product object (909)\n",
      "Product object (910)\n",
      "Product object (911)\n",
      "Product object (912)\n",
      "Product object (913)\n",
      "Product object (914)\n",
      "Product object (915)\n",
      "Product object (916)\n",
      "Product object (917)\n",
      "Product object (918)\n",
      "Product object (919)\n",
      "Product object (921)\n",
      "Product object (922)\n",
      "Product object (923)\n",
      "Product object (924)\n",
      "Product object (925)\n",
      "Product object (926)\n",
      "Product object (927)\n",
      "Product object (928)\n",
      "Product object (929)\n",
      "Product object (930)\n",
      "Product object (931)\n",
      "Product object (932)\n",
      "Product object (933)\n",
      "Product object (934)\n",
      "Product object (935)\n",
      "Product object (936)\n",
      "Product object (937)\n",
      "Product object (938)\n",
      "Product object (939)\n",
      "Product object (940)\n",
      "Product object (941)\n",
      "Product object (942)\n",
      "Product object (943)\n",
      "Product object (944)\n",
      "Product object (945)\n",
      "Product object (946)\n",
      "Product object (947)\n",
      "Product object (948)\n",
      "Product object (949)\n",
      "Product object (950)\n",
      "Product object (951)\n",
      "Product object (952)\n",
      "Product object (954)\n",
      "Product object (955)\n",
      "Product object (956)\n",
      "Product object (957)\n",
      "Product object (958)\n",
      "Product object (959)\n",
      "Product object (960)\n",
      "Product object (961)\n",
      "Product object (962)\n",
      "Product object (963)\n",
      "Product object (964)\n",
      "Product object (965)\n",
      "Product object (967)\n",
      "Product object (968)\n",
      "Product object (969)\n",
      "Product object (970)\n",
      "Product object (971)\n",
      "Product object (972)\n",
      "Product object (973)\n",
      "Product object (974)\n",
      "Product object (975)\n",
      "Product object (976)\n",
      "Product object (977)\n",
      "Product object (978)\n",
      "Product object (979)\n",
      "Product object (980)\n",
      "Product object (981)\n",
      "Product object (982)\n",
      "Product object (983)\n",
      "Product object (984)\n",
      "Product object (680)\n",
      "Product object (731)\n",
      "Product object (742)\n",
      "Product object (748)\n",
      "Product object (761)\n",
      "Product object (770)\n",
      "Product object (771)\n",
      "Product object (787)\n",
      "Product object (799)\n",
      "Product object (833)\n",
      "Product object (879)\n",
      "Product object (881)\n",
      "Product object (920)\n",
      "Product object (986)\n",
      "Product object (987)\n",
      "Product object (988)\n",
      "Product object (989)\n",
      "Product object (990)\n",
      "Product object (991)\n",
      "Product object (992)\n",
      "Product object (993)\n",
      "Product object (994)\n",
      "Product object (995)\n",
      "Product object (996)\n",
      "Product object (997)\n",
      "Product object (998)\n",
      "Product object (999)\n",
      "Product object (953)\n",
      "Product object (966)\n",
      "Product object (985)\n"
     ]
    }
   ],
   "source": [
    "printRecord(Product.objects.all())"
   ]
  },
  {
   "cell_type": "markdown",
   "id": "ab576b1a",
   "metadata": {},
   "source": [
    "### 3. Special offer - Product"
   ]
  },
  {
   "cell_type": "code",
   "execution_count": 30,
   "id": "88950b03",
   "metadata": {},
   "outputs": [
    {
     "name": "stdout",
     "output_type": "stream",
     "text": [
      "Done!\n"
     ]
    }
   ],
   "source": [
    "# Roll back to avoid error\n",
    "connection.rollback()\n",
    "\n",
    "# Set up query\n",
    "cur = connection.cursor()\n",
    "cur.execute(\"\"\"\n",
    "SELECT * FROM \"Company\".specialofferproduct\n",
    "\"\"\")\n",
    "\n",
    "# Result\n",
    "rows = cur.fetchall()\n",
    "# for row in rows:\n",
    "#     print(row)\n",
    "cur.close()\n",
    "\n",
    "print(\"Done!\")"
   ]
  },
  {
   "cell_type": "code",
   "execution_count": 20,
   "id": "853e7857",
   "metadata": {
    "scrolled": true
   },
   "outputs": [
    {
     "ename": "DoesNotExist",
     "evalue": "Product matching query does not exist.",
     "output_type": "error",
     "traceback": [
      "\u001b[1;31m---------------------------------------------------------------------------\u001b[0m",
      "\u001b[1;31mDoesNotExist\u001b[0m                              Traceback (most recent call last)",
      "Cell \u001b[1;32mIn[20], line 7\u001b[0m\n\u001b[0;32m      4\u001b[0m specialOffer \u001b[38;5;241m=\u001b[39m SpecialOffer\u001b[38;5;241m.\u001b[39mobjects\u001b[38;5;241m.\u001b[39mget(\u001b[38;5;28mid\u001b[39m\u001b[38;5;241m=\u001b[39mrow[\u001b[38;5;241m0\u001b[39m])\n\u001b[0;32m      6\u001b[0m \u001b[38;5;66;03m# Get product object\u001b[39;00m\n\u001b[1;32m----> 7\u001b[0m product \u001b[38;5;241m=\u001b[39m \u001b[43mProduct\u001b[49m\u001b[38;5;241;43m.\u001b[39;49m\u001b[43mobjects\u001b[49m\u001b[38;5;241;43m.\u001b[39;49m\u001b[43mget\u001b[49m\u001b[43m(\u001b[49m\u001b[38;5;28;43mid\u001b[39;49m\u001b[38;5;241;43m=\u001b[39;49m\u001b[43mrow\u001b[49m\u001b[43m[\u001b[49m\u001b[38;5;241;43m1\u001b[39;49m\u001b[43m]\u001b[49m\u001b[43m)\u001b[49m\n\u001b[0;32m      9\u001b[0m specialOfferProduct \u001b[38;5;241m=\u001b[39m SpecialOfferProduct(SpecialOffer\u001b[38;5;241m=\u001b[39mspecialOffer,\n\u001b[0;32m     10\u001b[0m                                           Product\u001b[38;5;241m=\u001b[39mproduct)\n\u001b[0;32m     12\u001b[0m specialOfferProduct\u001b[38;5;241m.\u001b[39msave()\n",
      "File \u001b[1;32m~\\Desktop\\dev\\dahttt\\env\\Lib\\site-packages\\django\\db\\models\\manager.py:87\u001b[0m, in \u001b[0;36mBaseManager._get_queryset_methods.<locals>.create_method.<locals>.manager_method\u001b[1;34m(self, *args, **kwargs)\u001b[0m\n\u001b[0;32m     85\u001b[0m \u001b[38;5;129m@wraps\u001b[39m(method)\n\u001b[0;32m     86\u001b[0m \u001b[38;5;28;01mdef\u001b[39;00m \u001b[38;5;21mmanager_method\u001b[39m(\u001b[38;5;28mself\u001b[39m, \u001b[38;5;241m*\u001b[39margs, \u001b[38;5;241m*\u001b[39m\u001b[38;5;241m*\u001b[39mkwargs):\n\u001b[1;32m---> 87\u001b[0m     \u001b[38;5;28;01mreturn\u001b[39;00m \u001b[38;5;28;43mgetattr\u001b[39;49m\u001b[43m(\u001b[49m\u001b[38;5;28;43mself\u001b[39;49m\u001b[38;5;241;43m.\u001b[39;49m\u001b[43mget_queryset\u001b[49m\u001b[43m(\u001b[49m\u001b[43m)\u001b[49m\u001b[43m,\u001b[49m\u001b[43m \u001b[49m\u001b[43mname\u001b[49m\u001b[43m)\u001b[49m\u001b[43m(\u001b[49m\u001b[38;5;241;43m*\u001b[39;49m\u001b[43margs\u001b[49m\u001b[43m,\u001b[49m\u001b[43m \u001b[49m\u001b[38;5;241;43m*\u001b[39;49m\u001b[38;5;241;43m*\u001b[39;49m\u001b[43mkwargs\u001b[49m\u001b[43m)\u001b[49m\n",
      "File \u001b[1;32m~\\Desktop\\dev\\dahttt\\env\\Lib\\site-packages\\django\\db\\models\\query.py:649\u001b[0m, in \u001b[0;36mQuerySet.get\u001b[1;34m(self, *args, **kwargs)\u001b[0m\n\u001b[0;32m    647\u001b[0m     \u001b[38;5;28;01mreturn\u001b[39;00m clone\u001b[38;5;241m.\u001b[39m_result_cache[\u001b[38;5;241m0\u001b[39m]\n\u001b[0;32m    648\u001b[0m \u001b[38;5;28;01mif\u001b[39;00m \u001b[38;5;129;01mnot\u001b[39;00m num:\n\u001b[1;32m--> 649\u001b[0m     \u001b[38;5;28;01mraise\u001b[39;00m \u001b[38;5;28mself\u001b[39m\u001b[38;5;241m.\u001b[39mmodel\u001b[38;5;241m.\u001b[39mDoesNotExist(\n\u001b[0;32m    650\u001b[0m         \u001b[38;5;124m\"\u001b[39m\u001b[38;5;132;01m%s\u001b[39;00m\u001b[38;5;124m matching query does not exist.\u001b[39m\u001b[38;5;124m\"\u001b[39m \u001b[38;5;241m%\u001b[39m \u001b[38;5;28mself\u001b[39m\u001b[38;5;241m.\u001b[39mmodel\u001b[38;5;241m.\u001b[39m_meta\u001b[38;5;241m.\u001b[39mobject_name\n\u001b[0;32m    651\u001b[0m     )\n\u001b[0;32m    652\u001b[0m \u001b[38;5;28;01mraise\u001b[39;00m \u001b[38;5;28mself\u001b[39m\u001b[38;5;241m.\u001b[39mmodel\u001b[38;5;241m.\u001b[39mMultipleObjectsReturned(\n\u001b[0;32m    653\u001b[0m     \u001b[38;5;124m\"\u001b[39m\u001b[38;5;124mget() returned more than one \u001b[39m\u001b[38;5;132;01m%s\u001b[39;00m\u001b[38;5;124m -- it returned \u001b[39m\u001b[38;5;132;01m%s\u001b[39;00m\u001b[38;5;124m!\u001b[39m\u001b[38;5;124m\"\u001b[39m\n\u001b[0;32m    654\u001b[0m     \u001b[38;5;241m%\u001b[39m (\n\u001b[1;32m   (...)\u001b[0m\n\u001b[0;32m    657\u001b[0m     )\n\u001b[0;32m    658\u001b[0m )\n",
      "\u001b[1;31mDoesNotExist\u001b[0m: Product matching query does not exist."
     ]
    }
   ],
   "source": [
    "# Save records\n",
    "for row in rows:\n",
    "    # Get special offer object\n",
    "    specialOffer = SpecialOffer.objects.get(id=row[0])\n",
    "    \n",
    "    # Get product object\n",
    "    product = Product.objects.get(id=row[1])\n",
    "    \n",
    "    specialOfferProduct = SpecialOfferProduct(SpecialOffer=specialOffer,\n",
    "                                              Product=product)\n",
    "                      \n",
    "    specialOfferProduct.save()\n",
    "    \n",
    "print(\"Done!\")"
   ]
  },
  {
   "cell_type": "code",
   "execution_count": null,
   "id": "6b318a70",
   "metadata": {},
   "outputs": [],
   "source": [
    "printRecord(SpecialOfferProduct.objects.all())"
   ]
  },
  {
   "cell_type": "markdown",
   "id": "26710a60",
   "metadata": {},
   "source": [
    "### 4. Territory"
   ]
  }
 ],
 "metadata": {
  "kernelspec": {
   "display_name": "Python 3 (ipykernel)",
   "language": "python",
   "name": "python3"
  },
  "language_info": {
   "codemirror_mode": {
    "name": "ipython",
    "version": 3
   },
   "file_extension": ".py",
   "mimetype": "text/x-python",
   "name": "python",
   "nbconvert_exporter": "python",
   "pygments_lexer": "ipython3",
   "version": "3.11.2"
  }
 },
 "nbformat": 4,
 "nbformat_minor": 5
}
