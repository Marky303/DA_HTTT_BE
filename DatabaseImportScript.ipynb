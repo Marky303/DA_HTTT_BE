{
 "cells": [
  {
   "cell_type": "markdown",
   "id": "f2280429",
   "metadata": {},
   "source": [
    "# Database import jupyter script"
   ]
  },
  {
   "cell_type": "markdown",
   "id": "3cc0895c",
   "metadata": {},
   "source": [
    "## I. Setup"
   ]
  },
  {
   "cell_type": "markdown",
   "id": "4628b15b",
   "metadata": {},
   "source": [
    "### 1. Django Jupyter setup"
   ]
  },
  {
   "cell_type": "code",
   "execution_count": 101,
   "id": "47c17496",
   "metadata": {},
   "outputs": [],
   "source": [
    "import os, django\n",
    "os.environ.setdefault(\"DJANGO_SETTINGS_MODULE\", \"backend.settings\")\n",
    "os.environ[\"DJANGO_ALLOW_ASYNC_UNSAFE\"] = \"true\"\n",
    "django.setup()"
   ]
  },
  {
   "cell_type": "markdown",
   "id": "1f68da15",
   "metadata": {},
   "source": [
    "### 2. Environment variables"
   ]
  },
  {
   "cell_type": "code",
   "execution_count": 102,
   "id": "8cc86367",
   "metadata": {},
   "outputs": [
    {
     "data": {
      "text/plain": [
       "True"
      ]
     },
     "execution_count": 102,
     "metadata": {},
     "output_type": "execute_result"
    }
   ],
   "source": [
    "from dotenv import load_dotenv\n",
    "import os \n",
    "load_dotenv()"
   ]
  },
  {
   "cell_type": "markdown",
   "id": "c97a898e",
   "metadata": {},
   "source": [
    "### 3. Other imports"
   ]
  },
  {
   "cell_type": "code",
   "execution_count": 103,
   "id": "066d913b",
   "metadata": {},
   "outputs": [],
   "source": [
    "# Import libraries\n",
    "import psycopg\n",
    "\n",
    "# Import Django models\n",
    "from account.models import *\n",
    "from sales.models import *"
   ]
  },
  {
   "cell_type": "markdown",
   "id": "c26d7a8c",
   "metadata": {},
   "source": [
    "### 4. Connect to Postgres"
   ]
  },
  {
   "cell_type": "code",
   "execution_count": 104,
   "id": "51bf7c1f",
   "metadata": {},
   "outputs": [],
   "source": [
    "# Connect to database\n",
    "connection = psycopg.connect(\n",
    "    dbname   = os.getenv(\"DATABASE_NAME\"),\n",
    "    user     = os.getenv(\"DATABASE_USER\"),\n",
    "    password = os.getenv(\"DATABASE_PASSWORD\"),\n",
    "    host     = os.getenv(\"DATABASE_HOST\"),\n",
    "    port     = os.getenv(\"DATABASE_PORT\")\n",
    ")"
   ]
  },
  {
   "cell_type": "markdown",
   "id": "e232dde2",
   "metadata": {},
   "source": [
    "### 5. Function declaration"
   ]
  },
  {
   "cell_type": "code",
   "execution_count": 105,
   "id": "aa9104cd",
   "metadata": {},
   "outputs": [],
   "source": [
    "def printRecord(list):\n",
    "    for record in list:\n",
    "        print(record)"
   ]
  },
  {
   "cell_type": "markdown",
   "id": "77db5592",
   "metadata": {},
   "source": [
    "## II. Import"
   ]
  },
  {
   "cell_type": "markdown",
   "id": "9f361760",
   "metadata": {},
   "source": [
    "### 1. Special Offers"
   ]
  },
  {
   "cell_type": "code",
   "execution_count": 106,
   "id": "851e784d",
   "metadata": {
    "scrolled": false
   },
   "outputs": [],
   "source": [
    "# Roll back to avoid error\n",
    "connection.rollback()\n",
    "\n",
    "# Set up query\n",
    "cur = connection.cursor()\n",
    "cur.execute(\"\"\"\n",
    "SELECT * FROM \"Company\".specialoffer\n",
    "ORDER BY specialofferid ASC\n",
    "\"\"\")\n",
    "\n",
    "# Result\n",
    "rows = cur.fetchall()\n",
    "# for row in rows:\n",
    "#     print(row)\n",
    "cur.close()"
   ]
  },
  {
   "cell_type": "code",
   "execution_count": 96,
   "id": "cd6de7d1",
   "metadata": {},
   "outputs": [
    {
     "name": "stderr",
     "output_type": "stream",
     "text": [
      "C:\\Users\\FPTSHOP\\Desktop\\dev\\dahttt\\env\\Lib\\site-packages\\django\\db\\models\\fields\\__init__.py:1665: RuntimeWarning: DateTimeField SpecialOffer.StartDate received a naive datetime (2011-05-01 00:00:00) while time zone support is active.\n",
      "  warnings.warn(\n",
      "C:\\Users\\FPTSHOP\\Desktop\\dev\\dahttt\\env\\Lib\\site-packages\\django\\db\\models\\fields\\__init__.py:1665: RuntimeWarning: DateTimeField SpecialOffer.EndDate received a naive datetime (2014-11-30 00:00:00) while time zone support is active.\n",
      "  warnings.warn(\n",
      "C:\\Users\\FPTSHOP\\Desktop\\dev\\dahttt\\env\\Lib\\site-packages\\django\\db\\models\\fields\\__init__.py:1665: RuntimeWarning: DateTimeField SpecialOffer.StartDate received a naive datetime (2011-05-31 00:00:00) while time zone support is active.\n",
      "  warnings.warn(\n",
      "C:\\Users\\FPTSHOP\\Desktop\\dev\\dahttt\\env\\Lib\\site-packages\\django\\db\\models\\fields\\__init__.py:1665: RuntimeWarning: DateTimeField SpecialOffer.EndDate received a naive datetime (2014-05-30 00:00:00) while time zone support is active.\n",
      "  warnings.warn(\n",
      "C:\\Users\\FPTSHOP\\Desktop\\dev\\dahttt\\env\\Lib\\site-packages\\django\\db\\models\\fields\\__init__.py:1665: RuntimeWarning: DateTimeField SpecialOffer.StartDate received a naive datetime (2012-04-13 00:00:00) while time zone support is active.\n",
      "  warnings.warn(\n",
      "C:\\Users\\FPTSHOP\\Desktop\\dev\\dahttt\\env\\Lib\\site-packages\\django\\db\\models\\fields\\__init__.py:1665: RuntimeWarning: DateTimeField SpecialOffer.EndDate received a naive datetime (2012-05-29 00:00:00) while time zone support is active.\n",
      "  warnings.warn(\n",
      "C:\\Users\\FPTSHOP\\Desktop\\dev\\dahttt\\env\\Lib\\site-packages\\django\\db\\models\\fields\\__init__.py:1665: RuntimeWarning: DateTimeField SpecialOffer.StartDate received a naive datetime (2012-05-30 00:00:00) while time zone support is active.\n",
      "  warnings.warn(\n",
      "C:\\Users\\FPTSHOP\\Desktop\\dev\\dahttt\\env\\Lib\\site-packages\\django\\db\\models\\fields\\__init__.py:1665: RuntimeWarning: DateTimeField SpecialOffer.EndDate received a naive datetime (2012-06-29 00:00:00) while time zone support is active.\n",
      "  warnings.warn(\n",
      "C:\\Users\\FPTSHOP\\Desktop\\dev\\dahttt\\env\\Lib\\site-packages\\django\\db\\models\\fields\\__init__.py:1665: RuntimeWarning: DateTimeField SpecialOffer.EndDate received a naive datetime (2012-07-30 00:00:00) while time zone support is active.\n",
      "  warnings.warn(\n",
      "C:\\Users\\FPTSHOP\\Desktop\\dev\\dahttt\\env\\Lib\\site-packages\\django\\db\\models\\fields\\__init__.py:1665: RuntimeWarning: DateTimeField SpecialOffer.StartDate received a naive datetime (2013-05-14 00:00:00) while time zone support is active.\n",
      "  warnings.warn(\n",
      "C:\\Users\\FPTSHOP\\Desktop\\dev\\dahttt\\env\\Lib\\site-packages\\django\\db\\models\\fields\\__init__.py:1665: RuntimeWarning: DateTimeField SpecialOffer.EndDate received a naive datetime (2013-07-29 00:00:00) while time zone support is active.\n",
      "  warnings.warn(\n",
      "C:\\Users\\FPTSHOP\\Desktop\\dev\\dahttt\\env\\Lib\\site-packages\\django\\db\\models\\fields\\__init__.py:1665: RuntimeWarning: DateTimeField SpecialOffer.StartDate received a naive datetime (2013-05-30 00:00:00) while time zone support is active.\n",
      "  warnings.warn(\n",
      "C:\\Users\\FPTSHOP\\Desktop\\dev\\dahttt\\env\\Lib\\site-packages\\django\\db\\models\\fields\\__init__.py:1665: RuntimeWarning: DateTimeField SpecialOffer.EndDate received a naive datetime (2013-06-29 00:00:00) while time zone support is active.\n",
      "  warnings.warn(\n",
      "C:\\Users\\FPTSHOP\\Desktop\\dev\\dahttt\\env\\Lib\\site-packages\\django\\db\\models\\fields\\__init__.py:1665: RuntimeWarning: DateTimeField SpecialOffer.EndDate received a naive datetime (2013-07-14 00:00:00) while time zone support is active.\n",
      "  warnings.warn(\n",
      "C:\\Users\\FPTSHOP\\Desktop\\dev\\dahttt\\env\\Lib\\site-packages\\django\\db\\models\\fields\\__init__.py:1665: RuntimeWarning: DateTimeField SpecialOffer.EndDate received a naive datetime (2013-08-29 00:00:00) while time zone support is active.\n",
      "  warnings.warn(\n",
      "C:\\Users\\FPTSHOP\\Desktop\\dev\\dahttt\\env\\Lib\\site-packages\\django\\db\\models\\fields\\__init__.py:1665: RuntimeWarning: DateTimeField SpecialOffer.StartDate received a naive datetime (2013-07-14 00:00:00) while time zone support is active.\n",
      "  warnings.warn(\n",
      "C:\\Users\\FPTSHOP\\Desktop\\dev\\dahttt\\env\\Lib\\site-packages\\django\\db\\models\\fields\\__init__.py:1665: RuntimeWarning: DateTimeField SpecialOffer.EndDate received a naive datetime (2012-08-14 00:00:00) while time zone support is active.\n",
      "  warnings.warn(\n",
      "C:\\Users\\FPTSHOP\\Desktop\\dev\\dahttt\\env\\Lib\\site-packages\\django\\db\\models\\fields\\__init__.py:1665: RuntimeWarning: DateTimeField SpecialOffer.StartDate received a naive datetime (2014-03-31 00:00:00) while time zone support is active.\n",
      "  warnings.warn(\n",
      "C:\\Users\\FPTSHOP\\Desktop\\dev\\dahttt\\env\\Lib\\site-packages\\django\\db\\models\\fields\\__init__.py:1665: RuntimeWarning: DateTimeField SpecialOffer.EndDate received a naive datetime (2013-05-30 00:00:00) while time zone support is active.\n",
      "  warnings.warn(\n"
     ]
    }
   ],
   "source": [
    "# Save records\n",
    "for row in rows:\n",
    "    # Create object\n",
    "    specialOffer = SpecialOffer(id=row[0],\n",
    "                                Description=row[1],\n",
    "                                Type=row[3],\n",
    "                                StartDate=row[5],\n",
    "                                EndDate=row[6],\n",
    "                                MinQty=row[7],\n",
    "                                MaxQty=row[8],\n",
    "                                DiscountPct=row[2])\n",
    "    \n",
    "    # Save to database\n",
    "    specialOffer.save()"
   ]
  },
  {
   "cell_type": "code",
   "execution_count": 97,
   "id": "7437b0f9",
   "metadata": {},
   "outputs": [
    {
     "name": "stdout",
     "output_type": "stream",
     "text": [
      "SpecialOffer object (1)\n",
      "SpecialOffer object (2)\n",
      "SpecialOffer object (3)\n",
      "SpecialOffer object (4)\n",
      "SpecialOffer object (5)\n",
      "SpecialOffer object (6)\n",
      "SpecialOffer object (7)\n",
      "SpecialOffer object (8)\n",
      "SpecialOffer object (9)\n",
      "SpecialOffer object (10)\n",
      "SpecialOffer object (11)\n",
      "SpecialOffer object (12)\n",
      "SpecialOffer object (13)\n",
      "SpecialOffer object (14)\n",
      "SpecialOffer object (15)\n",
      "SpecialOffer object (16)\n"
     ]
    }
   ],
   "source": [
    "printRecord(SpecialOffer.objects.all())"
   ]
  },
  {
   "cell_type": "markdown",
   "id": "bfd43c4a",
   "metadata": {},
   "source": [
    "### 2. Products"
   ]
  },
  {
   "cell_type": "code",
   "execution_count": 98,
   "id": "0d6a0514",
   "metadata": {},
   "outputs": [],
   "source": [
    "# Roll back to avoid error\n",
    "connection.rollback()\n",
    "\n",
    "# Set up query\n",
    "cur = connection.cursor()\n",
    "cur.execute(\"\"\"\n",
    "SELECT * FROM \"Company\".product\n",
    "ORDER BY productid ASC\n",
    "\"\"\")\n",
    "\n",
    "# Result\n",
    "rows = cur.fetchall()\n",
    "# for row in rows:\n",
    "#     print(row)\n",
    "cur.close()"
   ]
  },
  {
   "cell_type": "code",
   "execution_count": 100,
   "id": "828e939c",
   "metadata": {},
   "outputs": [
    {
     "ename": "IntegrityError",
     "evalue": "null value in column \"Style\" of relation \"sales_product\" violates not-null constraint\nDETAIL:  Failing row contains (680, HL Road Frame - Black, 58, null, null, null, null, Our lightest and best quality aluminum frame made from the newes..., XXL, null, 69.0000, 69.0000).\n",
     "output_type": "error",
     "traceback": [
      "\u001b[1;31m---------------------------------------------------------------------------\u001b[0m",
      "\u001b[1;31mNotNullViolation\u001b[0m                          Traceback (most recent call last)",
      "File \u001b[1;32m~\\Desktop\\dev\\dahttt\\env\\Lib\\site-packages\\django\\db\\backends\\utils.py:105\u001b[0m, in \u001b[0;36mCursorWrapper._execute\u001b[1;34m(self, sql, params, *ignored_wrapper_args)\u001b[0m\n\u001b[0;32m    104\u001b[0m \u001b[38;5;28;01melse\u001b[39;00m:\n\u001b[1;32m--> 105\u001b[0m     \u001b[38;5;28;01mreturn\u001b[39;00m \u001b[38;5;28;43mself\u001b[39;49m\u001b[38;5;241;43m.\u001b[39;49m\u001b[43mcursor\u001b[49m\u001b[38;5;241;43m.\u001b[39;49m\u001b[43mexecute\u001b[49m\u001b[43m(\u001b[49m\u001b[43msql\u001b[49m\u001b[43m,\u001b[49m\u001b[43m \u001b[49m\u001b[43mparams\u001b[49m\u001b[43m)\u001b[49m\n",
      "\u001b[1;31mNotNullViolation\u001b[0m: null value in column \"Style\" of relation \"sales_product\" violates not-null constraint\nDETAIL:  Failing row contains (680, HL Road Frame - Black, 58, null, null, null, null, Our lightest and best quality aluminum frame made from the newes..., XXL, null, 69.0000, 69.0000).\n",
      "\nThe above exception was the direct cause of the following exception:\n",
      "\u001b[1;31mIntegrityError\u001b[0m                            Traceback (most recent call last)",
      "Cell \u001b[1;32mIn[100], line 15\u001b[0m\n\u001b[0;32m      2\u001b[0m \u001b[38;5;28;01mfor\u001b[39;00m row \u001b[38;5;129;01min\u001b[39;00m rows:\n\u001b[0;32m      3\u001b[0m     product \u001b[38;5;241m=\u001b[39m Product(\u001b[38;5;28mid\u001b[39m\u001b[38;5;241m=\u001b[39mrow[\u001b[38;5;241m0\u001b[39m],\n\u001b[0;32m      4\u001b[0m                      Name\u001b[38;5;241m=\u001b[39mrow[\u001b[38;5;241m1\u001b[39m],\n\u001b[0;32m      5\u001b[0m                      Manufacturer\u001b[38;5;241m=\u001b[39mrow[\u001b[38;5;241m4\u001b[39m],\n\u001b[1;32m   (...)\u001b[0m\n\u001b[0;32m     12\u001b[0m                      StandardCost\u001b[38;5;241m=\u001b[39m\u001b[38;5;241m69\u001b[39m,           \u001b[38;5;66;03m# TODO\u001b[39;00m\n\u001b[0;32m     13\u001b[0m                      ListPrice\u001b[38;5;241m=\u001b[39m\u001b[38;5;241m69\u001b[39m)              \u001b[38;5;66;03m# TODO\u001b[39;00m\n\u001b[1;32m---> 15\u001b[0m     \u001b[43mproduct\u001b[49m\u001b[38;5;241;43m.\u001b[39;49m\u001b[43msave\u001b[49m\u001b[43m(\u001b[49m\u001b[43m)\u001b[49m\n",
      "File \u001b[1;32m~\\Desktop\\dev\\dahttt\\env\\Lib\\site-packages\\django\\db\\models\\base.py:891\u001b[0m, in \u001b[0;36mModel.save\u001b[1;34m(self, force_insert, force_update, using, update_fields, *args)\u001b[0m\n\u001b[0;32m    888\u001b[0m     \u001b[38;5;28;01mif\u001b[39;00m loaded_fields:\n\u001b[0;32m    889\u001b[0m         update_fields \u001b[38;5;241m=\u001b[39m \u001b[38;5;28mfrozenset\u001b[39m(loaded_fields)\n\u001b[1;32m--> 891\u001b[0m \u001b[38;5;28;43mself\u001b[39;49m\u001b[38;5;241;43m.\u001b[39;49m\u001b[43msave_base\u001b[49m\u001b[43m(\u001b[49m\n\u001b[0;32m    892\u001b[0m \u001b[43m    \u001b[49m\u001b[43musing\u001b[49m\u001b[38;5;241;43m=\u001b[39;49m\u001b[43musing\u001b[49m\u001b[43m,\u001b[49m\n\u001b[0;32m    893\u001b[0m \u001b[43m    \u001b[49m\u001b[43mforce_insert\u001b[49m\u001b[38;5;241;43m=\u001b[39;49m\u001b[43mforce_insert\u001b[49m\u001b[43m,\u001b[49m\n\u001b[0;32m    894\u001b[0m \u001b[43m    \u001b[49m\u001b[43mforce_update\u001b[49m\u001b[38;5;241;43m=\u001b[39;49m\u001b[43mforce_update\u001b[49m\u001b[43m,\u001b[49m\n\u001b[0;32m    895\u001b[0m \u001b[43m    \u001b[49m\u001b[43mupdate_fields\u001b[49m\u001b[38;5;241;43m=\u001b[39;49m\u001b[43mupdate_fields\u001b[49m\u001b[43m,\u001b[49m\n\u001b[0;32m    896\u001b[0m \u001b[43m\u001b[49m\u001b[43m)\u001b[49m\n",
      "File \u001b[1;32m~\\Desktop\\dev\\dahttt\\env\\Lib\\site-packages\\django\\db\\models\\base.py:997\u001b[0m, in \u001b[0;36mModel.save_base\u001b[1;34m(self, raw, force_insert, force_update, using, update_fields)\u001b[0m\n\u001b[0;32m    993\u001b[0m         force_insert \u001b[38;5;241m=\u001b[39m \u001b[38;5;28mself\u001b[39m\u001b[38;5;241m.\u001b[39m_validate_force_insert(force_insert)\n\u001b[0;32m    994\u001b[0m         parent_inserted \u001b[38;5;241m=\u001b[39m \u001b[38;5;28mself\u001b[39m\u001b[38;5;241m.\u001b[39m_save_parents(\n\u001b[0;32m    995\u001b[0m             \u001b[38;5;28mcls\u001b[39m, using, update_fields, force_insert\n\u001b[0;32m    996\u001b[0m         )\n\u001b[1;32m--> 997\u001b[0m     updated \u001b[38;5;241m=\u001b[39m \u001b[38;5;28;43mself\u001b[39;49m\u001b[38;5;241;43m.\u001b[39;49m\u001b[43m_save_table\u001b[49m\u001b[43m(\u001b[49m\n\u001b[0;32m    998\u001b[0m \u001b[43m        \u001b[49m\u001b[43mraw\u001b[49m\u001b[43m,\u001b[49m\n\u001b[0;32m    999\u001b[0m \u001b[43m        \u001b[49m\u001b[38;5;28;43mcls\u001b[39;49m\u001b[43m,\u001b[49m\n\u001b[0;32m   1000\u001b[0m \u001b[43m        \u001b[49m\u001b[43mforce_insert\u001b[49m\u001b[43m \u001b[49m\u001b[38;5;129;43;01mor\u001b[39;49;00m\u001b[43m \u001b[49m\u001b[43mparent_inserted\u001b[49m\u001b[43m,\u001b[49m\n\u001b[0;32m   1001\u001b[0m \u001b[43m        \u001b[49m\u001b[43mforce_update\u001b[49m\u001b[43m,\u001b[49m\n\u001b[0;32m   1002\u001b[0m \u001b[43m        \u001b[49m\u001b[43musing\u001b[49m\u001b[43m,\u001b[49m\n\u001b[0;32m   1003\u001b[0m \u001b[43m        \u001b[49m\u001b[43mupdate_fields\u001b[49m\u001b[43m,\u001b[49m\n\u001b[0;32m   1004\u001b[0m \u001b[43m    \u001b[49m\u001b[43m)\u001b[49m\n\u001b[0;32m   1005\u001b[0m \u001b[38;5;66;03m# Store the database on which the object was saved\u001b[39;00m\n\u001b[0;32m   1006\u001b[0m \u001b[38;5;28mself\u001b[39m\u001b[38;5;241m.\u001b[39m_state\u001b[38;5;241m.\u001b[39mdb \u001b[38;5;241m=\u001b[39m using\n",
      "File \u001b[1;32m~\\Desktop\\dev\\dahttt\\env\\Lib\\site-packages\\django\\db\\models\\base.py:1160\u001b[0m, in \u001b[0;36mModel._save_table\u001b[1;34m(self, raw, cls, force_insert, force_update, using, update_fields)\u001b[0m\n\u001b[0;32m   1154\u001b[0m fields \u001b[38;5;241m=\u001b[39m [\n\u001b[0;32m   1155\u001b[0m     f\n\u001b[0;32m   1156\u001b[0m     \u001b[38;5;28;01mfor\u001b[39;00m f \u001b[38;5;129;01min\u001b[39;00m meta\u001b[38;5;241m.\u001b[39mlocal_concrete_fields\n\u001b[0;32m   1157\u001b[0m     \u001b[38;5;28;01mif\u001b[39;00m \u001b[38;5;129;01mnot\u001b[39;00m f\u001b[38;5;241m.\u001b[39mgenerated \u001b[38;5;129;01mand\u001b[39;00m (pk_set \u001b[38;5;129;01mor\u001b[39;00m f \u001b[38;5;129;01mis\u001b[39;00m \u001b[38;5;129;01mnot\u001b[39;00m meta\u001b[38;5;241m.\u001b[39mauto_field)\n\u001b[0;32m   1158\u001b[0m ]\n\u001b[0;32m   1159\u001b[0m returning_fields \u001b[38;5;241m=\u001b[39m meta\u001b[38;5;241m.\u001b[39mdb_returning_fields\n\u001b[1;32m-> 1160\u001b[0m results \u001b[38;5;241m=\u001b[39m \u001b[38;5;28;43mself\u001b[39;49m\u001b[38;5;241;43m.\u001b[39;49m\u001b[43m_do_insert\u001b[49m\u001b[43m(\u001b[49m\n\u001b[0;32m   1161\u001b[0m \u001b[43m    \u001b[49m\u001b[38;5;28;43mcls\u001b[39;49m\u001b[38;5;241;43m.\u001b[39;49m\u001b[43m_base_manager\u001b[49m\u001b[43m,\u001b[49m\u001b[43m \u001b[49m\u001b[43musing\u001b[49m\u001b[43m,\u001b[49m\u001b[43m \u001b[49m\u001b[43mfields\u001b[49m\u001b[43m,\u001b[49m\u001b[43m \u001b[49m\u001b[43mreturning_fields\u001b[49m\u001b[43m,\u001b[49m\u001b[43m \u001b[49m\u001b[43mraw\u001b[49m\n\u001b[0;32m   1162\u001b[0m \u001b[43m\u001b[49m\u001b[43m)\u001b[49m\n\u001b[0;32m   1163\u001b[0m \u001b[38;5;28;01mif\u001b[39;00m results:\n\u001b[0;32m   1164\u001b[0m     \u001b[38;5;28;01mfor\u001b[39;00m value, field \u001b[38;5;129;01min\u001b[39;00m \u001b[38;5;28mzip\u001b[39m(results[\u001b[38;5;241m0\u001b[39m], returning_fields):\n",
      "File \u001b[1;32m~\\Desktop\\dev\\dahttt\\env\\Lib\\site-packages\\django\\db\\models\\base.py:1201\u001b[0m, in \u001b[0;36mModel._do_insert\u001b[1;34m(self, manager, using, fields, returning_fields, raw)\u001b[0m\n\u001b[0;32m   1196\u001b[0m \u001b[38;5;28;01mdef\u001b[39;00m \u001b[38;5;21m_do_insert\u001b[39m(\u001b[38;5;28mself\u001b[39m, manager, using, fields, returning_fields, raw):\n\u001b[0;32m   1197\u001b[0m \u001b[38;5;250m    \u001b[39m\u001b[38;5;124;03m\"\"\"\u001b[39;00m\n\u001b[0;32m   1198\u001b[0m \u001b[38;5;124;03m    Do an INSERT. If returning_fields is defined then this method should\u001b[39;00m\n\u001b[0;32m   1199\u001b[0m \u001b[38;5;124;03m    return the newly created data for the model.\u001b[39;00m\n\u001b[0;32m   1200\u001b[0m \u001b[38;5;124;03m    \"\"\"\u001b[39;00m\n\u001b[1;32m-> 1201\u001b[0m     \u001b[38;5;28;01mreturn\u001b[39;00m \u001b[43mmanager\u001b[49m\u001b[38;5;241;43m.\u001b[39;49m\u001b[43m_insert\u001b[49m\u001b[43m(\u001b[49m\n\u001b[0;32m   1202\u001b[0m \u001b[43m        \u001b[49m\u001b[43m[\u001b[49m\u001b[38;5;28;43mself\u001b[39;49m\u001b[43m]\u001b[49m\u001b[43m,\u001b[49m\n\u001b[0;32m   1203\u001b[0m \u001b[43m        \u001b[49m\u001b[43mfields\u001b[49m\u001b[38;5;241;43m=\u001b[39;49m\u001b[43mfields\u001b[49m\u001b[43m,\u001b[49m\n\u001b[0;32m   1204\u001b[0m \u001b[43m        \u001b[49m\u001b[43mreturning_fields\u001b[49m\u001b[38;5;241;43m=\u001b[39;49m\u001b[43mreturning_fields\u001b[49m\u001b[43m,\u001b[49m\n\u001b[0;32m   1205\u001b[0m \u001b[43m        \u001b[49m\u001b[43musing\u001b[49m\u001b[38;5;241;43m=\u001b[39;49m\u001b[43musing\u001b[49m\u001b[43m,\u001b[49m\n\u001b[0;32m   1206\u001b[0m \u001b[43m        \u001b[49m\u001b[43mraw\u001b[49m\u001b[38;5;241;43m=\u001b[39;49m\u001b[43mraw\u001b[49m\u001b[43m,\u001b[49m\n\u001b[0;32m   1207\u001b[0m \u001b[43m    \u001b[49m\u001b[43m)\u001b[49m\n",
      "File \u001b[1;32m~\\Desktop\\dev\\dahttt\\env\\Lib\\site-packages\\django\\db\\models\\manager.py:87\u001b[0m, in \u001b[0;36mBaseManager._get_queryset_methods.<locals>.create_method.<locals>.manager_method\u001b[1;34m(self, *args, **kwargs)\u001b[0m\n\u001b[0;32m     85\u001b[0m \u001b[38;5;129m@wraps\u001b[39m(method)\n\u001b[0;32m     86\u001b[0m \u001b[38;5;28;01mdef\u001b[39;00m \u001b[38;5;21mmanager_method\u001b[39m(\u001b[38;5;28mself\u001b[39m, \u001b[38;5;241m*\u001b[39margs, \u001b[38;5;241m*\u001b[39m\u001b[38;5;241m*\u001b[39mkwargs):\n\u001b[1;32m---> 87\u001b[0m     \u001b[38;5;28;01mreturn\u001b[39;00m \u001b[38;5;28;43mgetattr\u001b[39;49m\u001b[43m(\u001b[49m\u001b[38;5;28;43mself\u001b[39;49m\u001b[38;5;241;43m.\u001b[39;49m\u001b[43mget_queryset\u001b[49m\u001b[43m(\u001b[49m\u001b[43m)\u001b[49m\u001b[43m,\u001b[49m\u001b[43m \u001b[49m\u001b[43mname\u001b[49m\u001b[43m)\u001b[49m\u001b[43m(\u001b[49m\u001b[38;5;241;43m*\u001b[39;49m\u001b[43margs\u001b[49m\u001b[43m,\u001b[49m\u001b[43m \u001b[49m\u001b[38;5;241;43m*\u001b[39;49m\u001b[38;5;241;43m*\u001b[39;49m\u001b[43mkwargs\u001b[49m\u001b[43m)\u001b[49m\n",
      "File \u001b[1;32m~\\Desktop\\dev\\dahttt\\env\\Lib\\site-packages\\django\\db\\models\\query.py:1847\u001b[0m, in \u001b[0;36mQuerySet._insert\u001b[1;34m(self, objs, fields, returning_fields, raw, using, on_conflict, update_fields, unique_fields)\u001b[0m\n\u001b[0;32m   1840\u001b[0m query \u001b[38;5;241m=\u001b[39m sql\u001b[38;5;241m.\u001b[39mInsertQuery(\n\u001b[0;32m   1841\u001b[0m     \u001b[38;5;28mself\u001b[39m\u001b[38;5;241m.\u001b[39mmodel,\n\u001b[0;32m   1842\u001b[0m     on_conflict\u001b[38;5;241m=\u001b[39mon_conflict,\n\u001b[0;32m   1843\u001b[0m     update_fields\u001b[38;5;241m=\u001b[39mupdate_fields,\n\u001b[0;32m   1844\u001b[0m     unique_fields\u001b[38;5;241m=\u001b[39munique_fields,\n\u001b[0;32m   1845\u001b[0m )\n\u001b[0;32m   1846\u001b[0m query\u001b[38;5;241m.\u001b[39minsert_values(fields, objs, raw\u001b[38;5;241m=\u001b[39mraw)\n\u001b[1;32m-> 1847\u001b[0m \u001b[38;5;28;01mreturn\u001b[39;00m \u001b[43mquery\u001b[49m\u001b[38;5;241;43m.\u001b[39;49m\u001b[43mget_compiler\u001b[49m\u001b[43m(\u001b[49m\u001b[43musing\u001b[49m\u001b[38;5;241;43m=\u001b[39;49m\u001b[43musing\u001b[49m\u001b[43m)\u001b[49m\u001b[38;5;241;43m.\u001b[39;49m\u001b[43mexecute_sql\u001b[49m\u001b[43m(\u001b[49m\u001b[43mreturning_fields\u001b[49m\u001b[43m)\u001b[49m\n",
      "File \u001b[1;32m~\\Desktop\\dev\\dahttt\\env\\Lib\\site-packages\\django\\db\\models\\sql\\compiler.py:1836\u001b[0m, in \u001b[0;36mSQLInsertCompiler.execute_sql\u001b[1;34m(self, returning_fields)\u001b[0m\n\u001b[0;32m   1834\u001b[0m \u001b[38;5;28;01mwith\u001b[39;00m \u001b[38;5;28mself\u001b[39m\u001b[38;5;241m.\u001b[39mconnection\u001b[38;5;241m.\u001b[39mcursor() \u001b[38;5;28;01mas\u001b[39;00m cursor:\n\u001b[0;32m   1835\u001b[0m     \u001b[38;5;28;01mfor\u001b[39;00m sql, params \u001b[38;5;129;01min\u001b[39;00m \u001b[38;5;28mself\u001b[39m\u001b[38;5;241m.\u001b[39mas_sql():\n\u001b[1;32m-> 1836\u001b[0m         \u001b[43mcursor\u001b[49m\u001b[38;5;241;43m.\u001b[39;49m\u001b[43mexecute\u001b[49m\u001b[43m(\u001b[49m\u001b[43msql\u001b[49m\u001b[43m,\u001b[49m\u001b[43m \u001b[49m\u001b[43mparams\u001b[49m\u001b[43m)\u001b[49m\n\u001b[0;32m   1837\u001b[0m     \u001b[38;5;28;01mif\u001b[39;00m \u001b[38;5;129;01mnot\u001b[39;00m \u001b[38;5;28mself\u001b[39m\u001b[38;5;241m.\u001b[39mreturning_fields:\n\u001b[0;32m   1838\u001b[0m         \u001b[38;5;28;01mreturn\u001b[39;00m []\n",
      "File \u001b[1;32m~\\Desktop\\dev\\dahttt\\env\\Lib\\site-packages\\django\\db\\backends\\utils.py:122\u001b[0m, in \u001b[0;36mCursorDebugWrapper.execute\u001b[1;34m(self, sql, params)\u001b[0m\n\u001b[0;32m    120\u001b[0m \u001b[38;5;28;01mdef\u001b[39;00m \u001b[38;5;21mexecute\u001b[39m(\u001b[38;5;28mself\u001b[39m, sql, params\u001b[38;5;241m=\u001b[39m\u001b[38;5;28;01mNone\u001b[39;00m):\n\u001b[0;32m    121\u001b[0m     \u001b[38;5;28;01mwith\u001b[39;00m \u001b[38;5;28mself\u001b[39m\u001b[38;5;241m.\u001b[39mdebug_sql(sql, params, use_last_executed_query\u001b[38;5;241m=\u001b[39m\u001b[38;5;28;01mTrue\u001b[39;00m):\n\u001b[1;32m--> 122\u001b[0m         \u001b[38;5;28;01mreturn\u001b[39;00m \u001b[38;5;28;43msuper\u001b[39;49m\u001b[43m(\u001b[49m\u001b[43m)\u001b[49m\u001b[38;5;241;43m.\u001b[39;49m\u001b[43mexecute\u001b[49m\u001b[43m(\u001b[49m\u001b[43msql\u001b[49m\u001b[43m,\u001b[49m\u001b[43m \u001b[49m\u001b[43mparams\u001b[49m\u001b[43m)\u001b[49m\n",
      "File \u001b[1;32m~\\Desktop\\dev\\dahttt\\env\\Lib\\site-packages\\django\\db\\backends\\utils.py:79\u001b[0m, in \u001b[0;36mCursorWrapper.execute\u001b[1;34m(self, sql, params)\u001b[0m\n\u001b[0;32m     78\u001b[0m \u001b[38;5;28;01mdef\u001b[39;00m \u001b[38;5;21mexecute\u001b[39m(\u001b[38;5;28mself\u001b[39m, sql, params\u001b[38;5;241m=\u001b[39m\u001b[38;5;28;01mNone\u001b[39;00m):\n\u001b[1;32m---> 79\u001b[0m     \u001b[38;5;28;01mreturn\u001b[39;00m \u001b[38;5;28;43mself\u001b[39;49m\u001b[38;5;241;43m.\u001b[39;49m\u001b[43m_execute_with_wrappers\u001b[49m\u001b[43m(\u001b[49m\n\u001b[0;32m     80\u001b[0m \u001b[43m        \u001b[49m\u001b[43msql\u001b[49m\u001b[43m,\u001b[49m\u001b[43m \u001b[49m\u001b[43mparams\u001b[49m\u001b[43m,\u001b[49m\u001b[43m \u001b[49m\u001b[43mmany\u001b[49m\u001b[38;5;241;43m=\u001b[39;49m\u001b[38;5;28;43;01mFalse\u001b[39;49;00m\u001b[43m,\u001b[49m\u001b[43m \u001b[49m\u001b[43mexecutor\u001b[49m\u001b[38;5;241;43m=\u001b[39;49m\u001b[38;5;28;43mself\u001b[39;49m\u001b[38;5;241;43m.\u001b[39;49m\u001b[43m_execute\u001b[49m\n\u001b[0;32m     81\u001b[0m \u001b[43m    \u001b[49m\u001b[43m)\u001b[49m\n",
      "File \u001b[1;32m~\\Desktop\\dev\\dahttt\\env\\Lib\\site-packages\\django\\db\\backends\\utils.py:92\u001b[0m, in \u001b[0;36mCursorWrapper._execute_with_wrappers\u001b[1;34m(self, sql, params, many, executor)\u001b[0m\n\u001b[0;32m     90\u001b[0m \u001b[38;5;28;01mfor\u001b[39;00m wrapper \u001b[38;5;129;01min\u001b[39;00m \u001b[38;5;28mreversed\u001b[39m(\u001b[38;5;28mself\u001b[39m\u001b[38;5;241m.\u001b[39mdb\u001b[38;5;241m.\u001b[39mexecute_wrappers):\n\u001b[0;32m     91\u001b[0m     executor \u001b[38;5;241m=\u001b[39m functools\u001b[38;5;241m.\u001b[39mpartial(wrapper, executor)\n\u001b[1;32m---> 92\u001b[0m \u001b[38;5;28;01mreturn\u001b[39;00m \u001b[43mexecutor\u001b[49m\u001b[43m(\u001b[49m\u001b[43msql\u001b[49m\u001b[43m,\u001b[49m\u001b[43m \u001b[49m\u001b[43mparams\u001b[49m\u001b[43m,\u001b[49m\u001b[43m \u001b[49m\u001b[43mmany\u001b[49m\u001b[43m,\u001b[49m\u001b[43m \u001b[49m\u001b[43mcontext\u001b[49m\u001b[43m)\u001b[49m\n",
      "File \u001b[1;32m~\\Desktop\\dev\\dahttt\\env\\Lib\\site-packages\\django\\db\\backends\\utils.py:100\u001b[0m, in \u001b[0;36mCursorWrapper._execute\u001b[1;34m(self, sql, params, *ignored_wrapper_args)\u001b[0m\n\u001b[0;32m     98\u001b[0m     warnings\u001b[38;5;241m.\u001b[39mwarn(\u001b[38;5;28mself\u001b[39m\u001b[38;5;241m.\u001b[39mAPPS_NOT_READY_WARNING_MSG, category\u001b[38;5;241m=\u001b[39m\u001b[38;5;167;01mRuntimeWarning\u001b[39;00m)\n\u001b[0;32m     99\u001b[0m \u001b[38;5;28mself\u001b[39m\u001b[38;5;241m.\u001b[39mdb\u001b[38;5;241m.\u001b[39mvalidate_no_broken_transaction()\n\u001b[1;32m--> 100\u001b[0m \u001b[43m\u001b[49m\u001b[38;5;28;43;01mwith\u001b[39;49;00m\u001b[43m \u001b[49m\u001b[38;5;28;43mself\u001b[39;49m\u001b[38;5;241;43m.\u001b[39;49m\u001b[43mdb\u001b[49m\u001b[38;5;241;43m.\u001b[39;49m\u001b[43mwrap_database_errors\u001b[49m\u001b[43m:\u001b[49m\n\u001b[0;32m    101\u001b[0m \u001b[43m    \u001b[49m\u001b[38;5;28;43;01mif\u001b[39;49;00m\u001b[43m \u001b[49m\u001b[43mparams\u001b[49m\u001b[43m \u001b[49m\u001b[38;5;129;43;01mis\u001b[39;49;00m\u001b[43m \u001b[49m\u001b[38;5;28;43;01mNone\u001b[39;49;00m\u001b[43m:\u001b[49m\n\u001b[0;32m    102\u001b[0m \u001b[43m        \u001b[49m\u001b[38;5;66;43;03m# params default might be backend specific.\u001b[39;49;00m\n\u001b[0;32m    103\u001b[0m \u001b[43m        \u001b[49m\u001b[38;5;28;43;01mreturn\u001b[39;49;00m\u001b[43m \u001b[49m\u001b[38;5;28;43mself\u001b[39;49m\u001b[38;5;241;43m.\u001b[39;49m\u001b[43mcursor\u001b[49m\u001b[38;5;241;43m.\u001b[39;49m\u001b[43mexecute\u001b[49m\u001b[43m(\u001b[49m\u001b[43msql\u001b[49m\u001b[43m)\u001b[49m\n",
      "File \u001b[1;32m~\\Desktop\\dev\\dahttt\\env\\Lib\\site-packages\\django\\db\\utils.py:91\u001b[0m, in \u001b[0;36mDatabaseErrorWrapper.__exit__\u001b[1;34m(self, exc_type, exc_value, traceback)\u001b[0m\n\u001b[0;32m     89\u001b[0m \u001b[38;5;28;01mif\u001b[39;00m dj_exc_type \u001b[38;5;129;01mnot\u001b[39;00m \u001b[38;5;129;01min\u001b[39;00m (DataError, IntegrityError):\n\u001b[0;32m     90\u001b[0m     \u001b[38;5;28mself\u001b[39m\u001b[38;5;241m.\u001b[39mwrapper\u001b[38;5;241m.\u001b[39merrors_occurred \u001b[38;5;241m=\u001b[39m \u001b[38;5;28;01mTrue\u001b[39;00m\n\u001b[1;32m---> 91\u001b[0m \u001b[38;5;28;01mraise\u001b[39;00m dj_exc_value\u001b[38;5;241m.\u001b[39mwith_traceback(traceback) \u001b[38;5;28;01mfrom\u001b[39;00m \u001b[38;5;21;01mexc_value\u001b[39;00m\n",
      "File \u001b[1;32m~\\Desktop\\dev\\dahttt\\env\\Lib\\site-packages\\django\\db\\backends\\utils.py:105\u001b[0m, in \u001b[0;36mCursorWrapper._execute\u001b[1;34m(self, sql, params, *ignored_wrapper_args)\u001b[0m\n\u001b[0;32m    103\u001b[0m     \u001b[38;5;28;01mreturn\u001b[39;00m \u001b[38;5;28mself\u001b[39m\u001b[38;5;241m.\u001b[39mcursor\u001b[38;5;241m.\u001b[39mexecute(sql)\n\u001b[0;32m    104\u001b[0m \u001b[38;5;28;01melse\u001b[39;00m:\n\u001b[1;32m--> 105\u001b[0m     \u001b[38;5;28;01mreturn\u001b[39;00m \u001b[38;5;28;43mself\u001b[39;49m\u001b[38;5;241;43m.\u001b[39;49m\u001b[43mcursor\u001b[49m\u001b[38;5;241;43m.\u001b[39;49m\u001b[43mexecute\u001b[49m\u001b[43m(\u001b[49m\u001b[43msql\u001b[49m\u001b[43m,\u001b[49m\u001b[43m \u001b[49m\u001b[43mparams\u001b[49m\u001b[43m)\u001b[49m\n",
      "\u001b[1;31mIntegrityError\u001b[0m: null value in column \"Style\" of relation \"sales_product\" violates not-null constraint\nDETAIL:  Failing row contains (680, HL Road Frame - Black, 58, null, null, null, null, Our lightest and best quality aluminum frame made from the newes..., XXL, null, 69.0000, 69.0000).\n"
     ]
    }
   ],
   "source": [
    "# Save records\n",
    "for row in rows:\n",
    "    product = Product(id=row[0],\n",
    "                     Name=row[1],\n",
    "                     Manufacturer=row[4],\n",
    "                     Summary=row[3],\n",
    "                     WarrantyPeriod=row[5],\n",
    "                     RiderExperience=row[11],\n",
    "                     Description=row[2],\n",
    "                     Size=\"XXL\",                # Size\n",
    "                     Style=row[10],\n",
    "                     StandardCost=69,           # TODO\n",
    "                     ListPrice=69)              # TODO\n",
    "                      \n",
    "    product.save()"
   ]
  },
  {
   "cell_type": "code",
   "execution_count": 85,
   "id": "241ad123",
   "metadata": {},
   "outputs": [],
   "source": [
    "printRecord(Product.objects.all())"
   ]
  },
  {
   "cell_type": "code",
   "execution_count": null,
   "id": "5c5a0126",
   "metadata": {},
   "outputs": [],
   "source": []
  }
 ],
 "metadata": {
  "kernelspec": {
   "display_name": "Django Shell-Plus",
   "language": "python",
   "name": "django_extensions"
  },
  "language_info": {
   "codemirror_mode": {
    "name": "ipython",
    "version": 3
   },
   "file_extension": ".py",
   "mimetype": "text/x-python",
   "name": "python",
   "nbconvert_exporter": "python",
   "pygments_lexer": "ipython3",
   "version": "3.11.2"
  }
 },
 "nbformat": 4,
 "nbformat_minor": 5
}
